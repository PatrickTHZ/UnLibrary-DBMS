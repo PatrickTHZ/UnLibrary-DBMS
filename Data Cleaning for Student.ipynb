{
 "cells": [
  {
   "cell_type": "code",
   "outputs": [
    {
     "data": {
      "text/plain": "               Name      Date of Birth  \\\n0         Al Pacino      25 April 1940   \n1        Alan Arkin      26 March 1934   \n2      Alan Rickman   21 February 1946   \n3     Albert Finney         9 May 1936   \n4     Alec Guinness       2 April 1914   \n..              ...                ...   \n95        Tom Hanks        9 July 1956   \n96  Tommy Lee Jones  15 September 1946   \n97       Will Smith  25 September 1968   \n98   William Holden      17 April 1918   \n99      Woody Allen   30 November 1935   \n\n                               Place of Birth  Oscars  Oscar Nominations  \\\n0        East Harlem, New York, United States       1                  8   \n1           Brooklyn, New York, United States       1                  4   \n2         Hammersmith, London, United Kingdom       0                  0   \n3        Charlestown, Salford, United Kingdom       0                  5   \n4          Maida Vale, London, United Kingdom       1                  5   \n..                                        ...     ...                ...   \n95         Concord, California, United States       2                  5   \n96             San Saba, Texas, United States       1                  4   \n97  Philadelphia, Pennsylvania, United States       0                  2   \n98          O'Fallon, Illinois, United States       1                  3   \n99                        Mount Eden Hospital       4                 24   \n\n    BAFTA  BAFTA Nominations  Golden Globes  Golden Globe Nominations  \\\n0       2                  5              4                        15   \n1       1                  3              1                         6   \n2       1                  4              1                         1   \n3       2                 13              2                         9   \n4       3                  7              1                         3   \n..    ...                ...            ...                       ...   \n95      0                  4              4                         8   \n96      0                  4              1                         4   \n97      0                  0              0                         5   \n98      0                  2              0                         0   \n99      9                 23              2                        13   \n\n                                Greatest Performances  \n0   Serpico, Scent of a Woman, Dog Day Afternoon, ...  \n1   Argo, Little Miss Sunshine, The Heart Is a Lon...  \n2   Michael Collins, Truly Madly Deeply, Sense and...  \n3   The Murder on the orient Express, The Dresser,...  \n4   Star Wars, Little Dorrit, The Bridge on the Ri...  \n..                                                ...  \n95  Cast Away, Forrest Gump, Philadelphia, Saving ...  \n96       In the Valley of Elah, Lincoln, The Fugitive  \n97          The Pursuit of Happiness, Ali, Concussion  \n98                   Network, Stalag 17, Sunset Blvd.  \n99      Annie Hall, Manhattan, Take the Money and Run  \n\n[100 rows x 10 columns]",
      "text/html": "<div>\n<style scoped>\n    .dataframe tbody tr th:only-of-type {\n        vertical-align: middle;\n    }\n\n    .dataframe tbody tr th {\n        vertical-align: top;\n    }\n\n    .dataframe thead th {\n        text-align: right;\n    }\n</style>\n<table border=\"1\" class=\"dataframe\">\n  <thead>\n    <tr style=\"text-align: right;\">\n      <th></th>\n      <th>Name</th>\n      <th>Date of Birth</th>\n      <th>Place of Birth</th>\n      <th>Oscars</th>\n      <th>Oscar Nominations</th>\n      <th>BAFTA</th>\n      <th>BAFTA Nominations</th>\n      <th>Golden Globes</th>\n      <th>Golden Globe Nominations</th>\n      <th>Greatest Performances</th>\n    </tr>\n  </thead>\n  <tbody>\n    <tr>\n      <th>0</th>\n      <td>Al Pacino</td>\n      <td>25 April 1940</td>\n      <td>East Harlem, New York, United States</td>\n      <td>1</td>\n      <td>8</td>\n      <td>2</td>\n      <td>5</td>\n      <td>4</td>\n      <td>15</td>\n      <td>Serpico, Scent of a Woman, Dog Day Afternoon, ...</td>\n    </tr>\n    <tr>\n      <th>1</th>\n      <td>Alan Arkin</td>\n      <td>26 March 1934</td>\n      <td>Brooklyn, New York, United States</td>\n      <td>1</td>\n      <td>4</td>\n      <td>1</td>\n      <td>3</td>\n      <td>1</td>\n      <td>6</td>\n      <td>Argo, Little Miss Sunshine, The Heart Is a Lon...</td>\n    </tr>\n    <tr>\n      <th>2</th>\n      <td>Alan Rickman</td>\n      <td>21 February 1946</td>\n      <td>Hammersmith, London, United Kingdom</td>\n      <td>0</td>\n      <td>0</td>\n      <td>1</td>\n      <td>4</td>\n      <td>1</td>\n      <td>1</td>\n      <td>Michael Collins, Truly Madly Deeply, Sense and...</td>\n    </tr>\n    <tr>\n      <th>3</th>\n      <td>Albert Finney</td>\n      <td>9 May 1936</td>\n      <td>Charlestown, Salford, United Kingdom</td>\n      <td>0</td>\n      <td>5</td>\n      <td>2</td>\n      <td>13</td>\n      <td>2</td>\n      <td>9</td>\n      <td>The Murder on the orient Express, The Dresser,...</td>\n    </tr>\n    <tr>\n      <th>4</th>\n      <td>Alec Guinness</td>\n      <td>2 April 1914</td>\n      <td>Maida Vale, London, United Kingdom</td>\n      <td>1</td>\n      <td>5</td>\n      <td>3</td>\n      <td>7</td>\n      <td>1</td>\n      <td>3</td>\n      <td>Star Wars, Little Dorrit, The Bridge on the Ri...</td>\n    </tr>\n    <tr>\n      <th>...</th>\n      <td>...</td>\n      <td>...</td>\n      <td>...</td>\n      <td>...</td>\n      <td>...</td>\n      <td>...</td>\n      <td>...</td>\n      <td>...</td>\n      <td>...</td>\n      <td>...</td>\n    </tr>\n    <tr>\n      <th>95</th>\n      <td>Tom Hanks</td>\n      <td>9 July 1956</td>\n      <td>Concord, California, United States</td>\n      <td>2</td>\n      <td>5</td>\n      <td>0</td>\n      <td>4</td>\n      <td>4</td>\n      <td>8</td>\n      <td>Cast Away, Forrest Gump, Philadelphia, Saving ...</td>\n    </tr>\n    <tr>\n      <th>96</th>\n      <td>Tommy Lee Jones</td>\n      <td>15 September 1946</td>\n      <td>San Saba, Texas, United States</td>\n      <td>1</td>\n      <td>4</td>\n      <td>0</td>\n      <td>4</td>\n      <td>1</td>\n      <td>4</td>\n      <td>In the Valley of Elah, Lincoln, The Fugitive</td>\n    </tr>\n    <tr>\n      <th>97</th>\n      <td>Will Smith</td>\n      <td>25 September 1968</td>\n      <td>Philadelphia, Pennsylvania, United States</td>\n      <td>0</td>\n      <td>2</td>\n      <td>0</td>\n      <td>0</td>\n      <td>0</td>\n      <td>5</td>\n      <td>The Pursuit of Happiness, Ali, Concussion</td>\n    </tr>\n    <tr>\n      <th>98</th>\n      <td>William Holden</td>\n      <td>17 April 1918</td>\n      <td>O'Fallon, Illinois, United States</td>\n      <td>1</td>\n      <td>3</td>\n      <td>0</td>\n      <td>2</td>\n      <td>0</td>\n      <td>0</td>\n      <td>Network, Stalag 17, Sunset Blvd.</td>\n    </tr>\n    <tr>\n      <th>99</th>\n      <td>Woody Allen</td>\n      <td>30 November 1935</td>\n      <td>Mount Eden Hospital</td>\n      <td>4</td>\n      <td>24</td>\n      <td>9</td>\n      <td>23</td>\n      <td>2</td>\n      <td>13</td>\n      <td>Annie Hall, Manhattan, Take the Money and Run</td>\n    </tr>\n  </tbody>\n</table>\n<p>100 rows × 10 columns</p>\n</div>"
     },
     "execution_count": 1,
     "metadata": {},
     "output_type": "execute_result"
    }
   ],
   "source": [
    "import pandas as pd\n",
    "        \n",
    "df1 = pd.read_csv('Top 100 Greatest Hollywood Actors of All Time.csv')\n",
    "df1"
   ],
   "metadata": {
    "collapsed": false,
    "ExecuteTime": {
     "end_time": "2024-04-11T05:03:12.953493Z",
     "start_time": "2024-04-11T05:03:12.634516Z"
    }
   },
   "id": "6605d3e01a3e4e13",
   "execution_count": 1
  },
  {
   "cell_type": "code",
   "outputs": [
    {
     "name": "stdout",
     "output_type": "stream",
     "text": [
      "Index(['Name', 'Date of Birth', 'Place of Birth', 'Oscars',\n",
      "       'Oscar Nominations', 'BAFTA', 'BAFTA Nominations', 'Golden Globes',\n",
      "       'Golden Globe Nominations', 'Greatest Performances'],\n",
      "      dtype='object')\n"
     ]
    }
   ],
   "source": [
    "print(df1.columns)"
   ],
   "metadata": {
    "collapsed": false,
    "ExecuteTime": {
     "end_time": "2024-04-11T05:03:12.958461Z",
     "start_time": "2024-04-11T05:03:12.955664Z"
    }
   },
   "id": "4389971fe48c440f",
   "execution_count": 2
  },
  {
   "cell_type": "code",
   "outputs": [
    {
     "name": "stdout",
     "output_type": "stream",
     "text": [
      "               Name      Date of Birth  \\\n",
      "0         Al Pacino      25 April 1940   \n",
      "1        Alan Arkin      26 March 1934   \n",
      "2      Alan Rickman   21 February 1946   \n",
      "3     Albert Finney         9 May 1936   \n",
      "4     Alec Guinness       2 April 1914   \n",
      "..              ...                ...   \n",
      "95        Tom Hanks        9 July 1956   \n",
      "96  Tommy Lee Jones  15 September 1946   \n",
      "97       Will Smith  25 September 1968   \n",
      "98   William Holden      17 April 1918   \n",
      "99      Woody Allen   30 November 1935   \n",
      "\n",
      "                               Place of Birth  \n",
      "0        East Harlem, New York, United States  \n",
      "1           Brooklyn, New York, United States  \n",
      "2         Hammersmith, London, United Kingdom  \n",
      "3        Charlestown, Salford, United Kingdom  \n",
      "4          Maida Vale, London, United Kingdom  \n",
      "..                                        ...  \n",
      "95         Concord, California, United States  \n",
      "96             San Saba, Texas, United States  \n",
      "97  Philadelphia, Pennsylvania, United States  \n",
      "98          O'Fallon, Illinois, United States  \n",
      "99                        Mount Eden Hospital  \n",
      "\n",
      "[100 rows x 3 columns]\n"
     ]
    }
   ],
   "source": [
    "columns_to_drop = ['Oscars', 'Oscar Nominations', 'BAFTA', 'BAFTA Nominations', 'Golden Globes', 'Golden Globe Nominations', 'Greatest Performances']\n",
    "df1.drop(columns=columns_to_drop, inplace=True)\n",
    "print(df1)"
   ],
   "metadata": {
    "collapsed": false,
    "ExecuteTime": {
     "end_time": "2024-04-11T05:03:12.963411Z",
     "start_time": "2024-04-11T05:03:12.959348Z"
    }
   },
   "id": "9f703f915391e1dc",
   "execution_count": 3
  },
  {
   "cell_type": "code",
   "outputs": [
    {
     "name": "stdout",
     "output_type": "stream",
     "text": [
      "        Date of Birth                             Place of Birth User_F_Name  \\\n",
      "0       25 April 1940       East Harlem, New York, United States          Al   \n",
      "1       26 March 1934          Brooklyn, New York, United States        Alan   \n",
      "2    21 February 1946        Hammersmith, London, United Kingdom        Alan   \n",
      "3          9 May 1936       Charlestown, Salford, United Kingdom      Albert   \n",
      "4        2 April 1914         Maida Vale, London, United Kingdom        Alec   \n",
      "..                ...                                        ...         ...   \n",
      "95        9 July 1956         Concord, California, United States         Tom   \n",
      "96  15 September 1946             San Saba, Texas, United States       Tommy   \n",
      "97  25 September 1968  Philadelphia, Pennsylvania, United States        Will   \n",
      "98      17 April 1918          O'Fallon, Illinois, United States     William   \n",
      "99   30 November 1935                        Mount Eden Hospital       Woody   \n",
      "\n",
      "   User_L_Name  \n",
      "0       Pacino  \n",
      "1        Arkin  \n",
      "2      Rickman  \n",
      "3       Finney  \n",
      "4     Guinness  \n",
      "..         ...  \n",
      "95       Hanks  \n",
      "96   Lee Jones  \n",
      "97       Smith  \n",
      "98      Holden  \n",
      "99       Allen  \n",
      "\n",
      "[100 rows x 4 columns]\n"
     ]
    }
   ],
   "source": [
    "# Split 'Name' column into 'User_F_Name' and 'User_L_Name'\n",
    "df1[['User_F_Name', 'User_L_Name']] = df1['Name'].str.split(' ', n=1, expand=True)\n",
    "\n",
    "# Drop the original 'Name' column\n",
    "df1.drop(columns=['Name'], inplace=True)\n",
    "\n",
    "# Print the modified DataFrame\n",
    "print(df1)"
   ],
   "metadata": {
    "collapsed": false,
    "ExecuteTime": {
     "end_time": "2024-04-11T05:03:12.967957Z",
     "start_time": "2024-04-11T05:03:12.963849Z"
    }
   },
   "id": "be2c2a5b78fb2a01",
   "execution_count": 4
  },
  {
   "cell_type": "code",
   "outputs": [
    {
     "name": "stdout",
     "output_type": "stream",
     "text": [
      "   Date of Birth                             Place of Birth User_F_Name  \\\n",
      "0     25/04/1940       East Harlem, New York, United States          Al   \n",
      "1     26/03/1934          Brooklyn, New York, United States        Alan   \n",
      "2     21/02/1946        Hammersmith, London, United Kingdom        Alan   \n",
      "3     09/05/1936       Charlestown, Salford, United Kingdom      Albert   \n",
      "4     02/04/1914         Maida Vale, London, United Kingdom        Alec   \n",
      "..           ...                                        ...         ...   \n",
      "95    09/07/1956         Concord, California, United States         Tom   \n",
      "96    15/09/1946             San Saba, Texas, United States       Tommy   \n",
      "97    25/09/1968  Philadelphia, Pennsylvania, United States        Will   \n",
      "98    17/04/1918          O'Fallon, Illinois, United States     William   \n",
      "99    30/11/1935                        Mount Eden Hospital       Woody   \n",
      "\n",
      "   User_L_Name  \n",
      "0       Pacino  \n",
      "1        Arkin  \n",
      "2      Rickman  \n",
      "3       Finney  \n",
      "4     Guinness  \n",
      "..         ...  \n",
      "95       Hanks  \n",
      "96   Lee Jones  \n",
      "97       Smith  \n",
      "98      Holden  \n",
      "99       Allen  \n",
      "\n",
      "[100 rows x 4 columns]\n"
     ]
    }
   ],
   "source": [
    "# Convert 'Date of Birth' column to datetime format\n",
    "df1['Date of Birth'] = pd.to_datetime(df1['Date of Birth'])\n",
    "\n",
    "# Convert datetime format to 'DD/MM/YYYY' string format\n",
    "df1['Date of Birth'] = df1['Date of Birth'].dt.strftime('%d/%m/%Y')\n",
    "\n",
    "# Print the modified DataFrame\n",
    "print(df1)"
   ],
   "metadata": {
    "collapsed": false,
    "ExecuteTime": {
     "end_time": "2024-04-11T05:03:12.976078Z",
     "start_time": "2024-04-11T05:03:12.969525Z"
    }
   },
   "id": "97c4da4cd8b65129",
   "execution_count": 5
  }
 ],
 "metadata": {
  "kernelspec": {
   "display_name": "Python 3",
   "language": "python",
   "name": "python3"
  },
  "language_info": {
   "codemirror_mode": {
    "name": "ipython",
    "version": 2
   },
   "file_extension": ".py",
   "mimetype": "text/x-python",
   "name": "python",
   "nbconvert_exporter": "python",
   "pygments_lexer": "ipython2",
   "version": "2.7.6"
  }
 },
 "nbformat": 4,
 "nbformat_minor": 5
}
