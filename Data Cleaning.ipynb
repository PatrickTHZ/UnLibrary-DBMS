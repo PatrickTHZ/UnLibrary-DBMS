{
 "cells": [
  {
   "cell_type": "code",
   "source": [
    "import pandas as pd\n",
    "        \n",
    "dataset = pd.read_csv('dataset.csv')\n",
    "dataset"
   ],
   "metadata": {
    "collapsed": false,
    "is_executing": true,
    "jupyter": {
     "is_executing": true
    }
   },
   "id": "49dd5ddf80f62eb0",
   "outputs": [],
   "execution_count": null
  },
  {
   "cell_type": "code",
   "outputs": [
    {
     "name": "stdout",
     "output_type": "stream",
     "text": [
      "Index(['Unnamed: 0', 'Category', 'ISBN', 'Title Name', 'Author/Writer',\n",
      "       'Language', 'Binding', 'Publication Year', 'Pages', 'Sale Territory',\n",
      "       'MRP', 'About the Book', 'Content', 'About the Author', 'Booklink'],\n",
      "      dtype='object')\n"
     ]
    }
   ],
   "source": [
    "print(dataset.columns)"
   ],
   "metadata": {
    "collapsed": false,
    "ExecuteTime": {
     "end_time": "2024-04-11T05:03:05.060258Z",
     "start_time": "2024-04-11T05:03:05.058325Z"
    }
   },
   "id": "4d5df7fdd2f55f9a",
   "execution_count": 2
  },
  {
   "cell_type": "code",
   "outputs": [
    {
     "name": "stdout",
     "output_type": "stream",
     "text": [
      "           Category           ISBN  \\\n",
      "0            Ageing  9789811539824   \n",
      "1            Ageing  9788131611234   \n",
      "2            Ageing  9788131608708   \n",
      "3            Ageing    81316019007   \n",
      "4            Ageing  9788131607268   \n",
      "...             ...            ...   \n",
      "3321  Women Studies     8170332699   \n",
      "3322  Women Studies     8170332752   \n",
      "3323  Women Studies     8170332158   \n",
      "3324  Women Studies     817033228X   \n",
      "3325  Women Studies     8170331216   \n",
      "\n",
      "                                             Title Name  \\\n",
      "0     ELDERLY CARE IN INDIA: Societal and State Resp...   \n",
      "1                THE SOCIOLOGY OF AGING (Third Edition)   \n",
      "2     ELDERLY WIDOWS: Socio-Economic and Demographic...   \n",
      "3                         SOCIOLOGY OF AGEING: A Reader   \n",
      "4     SOCIAL WORK IN HEALTH AND AGEING: Global Persp...   \n",
      "...                                                 ...   \n",
      "3321            WOMEN ORGANIZATIONS AND SOCIAL NETWORKS   \n",
      "3322   POLYGAMY & PURDAH: Women & Society among Rajputs   \n",
      "3323                   MARRIAGE AMONG INDIAN CHRISTIANS   \n",
      "3324  MARRIAGE AND KINSHIP AMONG MUSLIMS IN SOUTH INDIA   \n",
      "3325              WOMEN AND POLYANDRY IN RAWAIN-JAUNPUR   \n",
      "\n",
      "                                          Author/Writer Language   Binding  \\\n",
      "0         S. Irudaya Rajan and Gayathri Balagopal (eds)  english  Hardback   \n",
      "1                                       Diana K. Harris  english  Hardback   \n",
      "2                                        Sangeeta Gupta  english  Hardback   \n",
      "3     Ajaya Kumar Sahoo, Gavin J. Andrews, S. Iruday...  english  Hardback   \n",
      "4     Barbara Berkman, K.L. Sharma, Daniel B. Kaplan...  english  Hardback   \n",
      "...                                                 ...      ...       ...   \n",
      "3321                                     Neeraj Ahlawat  english  Hardback   \n",
      "3322                                       Varsha Joshi  english  Hardback   \n",
      "3323                                    Mariamma Joseph  english  Hardback   \n",
      "3324                                  C.G. Hussain Khan  english  Hardback   \n",
      "3325                                         G.S. Bhatt  english  Hardback   \n",
      "\n",
      "      Publication Year      Pages   MRP  \\\n",
      "0                 2021  287 pages  1495   \n",
      "1                 2020  300 pages  1495   \n",
      "2                 2018  220 pages   750   \n",
      "3                 2015  472 pages  1495   \n",
      "4                 2015  286 pages   995   \n",
      "...                ...        ...   ...   \n",
      "3321              1995  168 pages   225   \n",
      "3322              1995  212 pages   300   \n",
      "3323              1994  242 pages   325   \n",
      "3324              1994  256 pages   350   \n",
      "3325              1991  257 pages   135   \n",
      "\n",
      "                                         About the Book  \\\n",
      "0     This volume highlights a range of issues under...   \n",
      "1     \\t\\t\\t\\tThis text provides a comprehensive ove...   \n",
      "2     Widows are the most neglected and vulnerable s...   \n",
      "3     \\t\\t\\t\\tOver the past thirty years, the sociol...   \n",
      "4     \\t\\t\\t\\tThe questions of gerontology are truly...   \n",
      "...                                                 ...   \n",
      "3321                                                NaN   \n",
      "3322  \\t\\t\\t\\tPolygamy and purdah have been two infl...   \n",
      "3323  \\t\\t\\t\\tThe book is an attempt to analyze the ...   \n",
      "3324  \\t\\t\\t\\tEthnographic profiles on Indian Muslim...   \n",
      "3325  \\t\\t\\t\\tIt is by far the best account of polya...   \n",
      "\n",
      "                                       About the Author  \\\n",
      "0     S. Irudaya Rajan, Centre for Development Studi...   \n",
      "1     Diana K. Harris is Professor Emeritus of Socio...   \n",
      "2     Sangeeta Gupta is a Senior Project Manager of ...   \n",
      "3      Ajaya Kumar Sahoo is Lecturer at the Centre f...   \n",
      "4     Barbara Berkman is Helen Rehr/Ruth Fizdale Pro...   \n",
      "...                                                 ...   \n",
      "3321                                                NaN   \n",
      "3322  Varsha Joshi obtained her doctorate from Schoo...   \n",
      "3323  Mariamma Josehp is former professor of Sociolo...   \n",
      "3324  C.G. Hussain Khan is Reader in the Department ...   \n",
      "3325  Gauri Shankar Bhatt is engaged as the Principa...   \n",
      "\n",
      "                                               Booklink  \n",
      "0     https://www.rawatbooks.com/Ageing/elderly-care...  \n",
      "1     https://www.rawatbooks.com/Ageing/the-sociolog...  \n",
      "2     https://www.rawatbooks.com/Ageing/Elderly-wido...  \n",
      "3     https://www.rawatbooks.com/Ageing/sociology-of...  \n",
      "4     https://www.rawatbooks.com/Ageing/social-work-...  \n",
      "...                                                 ...  \n",
      "3321  https://www.rawatbooks.com/Women Studies/women...  \n",
      "3322  https://www.rawatbooks.com/Women Studies/polyg...  \n",
      "3323  https://www.rawatbooks.com/Women Studies/marri...  \n",
      "3324  https://www.rawatbooks.com/Women Studies/marri...  \n",
      "3325  https://www.rawatbooks.com/Women Studies/women...  \n",
      "\n",
      "[3326 rows x 12 columns]\n"
     ]
    }
   ],
   "source": [
    "columns_to_drop = ['Unnamed: 0', 'Sale Territory', 'Content']\n",
    "\n",
    "# Drop the specified columns from the DataFrame\n",
    "df = dataset.drop(columns=columns_to_drop)\n",
    "\n",
    "# Display the modified DataFrame\n",
    "print(df)"
   ],
   "metadata": {
    "collapsed": false,
    "ExecuteTime": {
     "end_time": "2024-04-11T05:03:05.065217Z",
     "start_time": "2024-04-11T05:03:05.060789Z"
    }
   },
   "id": "5f53d5307d3e25db",
   "execution_count": 3
  },
  {
   "cell_type": "code",
   "outputs": [
    {
     "name": "stdout",
     "output_type": "stream",
     "text": [
      "Normalized DataFrame:\n",
      "               ISBN                                         Title Name  \\\n",
      "0     9789811539824  ELDERLY CARE IN INDIA: Societal and State Resp...   \n",
      "1     9788131611234             THE SOCIOLOGY OF AGING (Third Edition)   \n",
      "2     9788131608708  ELDERLY WIDOWS: Socio-Economic and Demographic...   \n",
      "3       81316019007                      SOCIOLOGY OF AGEING: A Reader   \n",
      "4     9788131607268  SOCIAL WORK IN HEALTH AND AGEING: Global Persp...   \n",
      "...             ...                                                ...   \n",
      "3321     8170332699            WOMEN ORGANIZATIONS AND SOCIAL NETWORKS   \n",
      "3322     8170332752   POLYGAMY & PURDAH: Women & Society among Rajputs   \n",
      "3323     8170332158                   MARRIAGE AMONG INDIAN CHRISTIANS   \n",
      "3324     817033228X  MARRIAGE AND KINSHIP AMONG MUSLIMS IN SOUTH INDIA   \n",
      "3325     8170331216              WOMEN AND POLYANDRY IN RAWAIN-JAUNPUR   \n",
      "\n",
      "       Binding      Pages   MRP  \\\n",
      "0     Hardback  287 pages  1495   \n",
      "1     Hardback  300 pages  1495   \n",
      "2     Hardback  220 pages   750   \n",
      "3     Hardback  472 pages  1495   \n",
      "4     Hardback  286 pages   995   \n",
      "...        ...        ...   ...   \n",
      "3321  Hardback  168 pages   225   \n",
      "3322  Hardback  212 pages   300   \n",
      "3323  Hardback  242 pages   325   \n",
      "3324  Hardback  256 pages   350   \n",
      "3325  Hardback  257 pages   135   \n",
      "\n",
      "                                         About the Book  AuthorID  \\\n",
      "0     This volume highlights a range of issues under...         1   \n",
      "1     \\t\\t\\t\\tThis text provides a comprehensive ove...         2   \n",
      "2     Widows are the most neglected and vulnerable s...         3   \n",
      "3     \\t\\t\\t\\tOver the past thirty years, the sociol...         4   \n",
      "4     \\t\\t\\t\\tThe questions of gerontology are truly...         5   \n",
      "...                                                 ...       ...   \n",
      "3321                                                NaN      1159   \n",
      "3322  \\t\\t\\t\\tPolygamy and purdah have been two infl...      1160   \n",
      "3323  \\t\\t\\t\\tThe book is an attempt to analyze the ...      1162   \n",
      "3324  \\t\\t\\t\\tEthnographic profiles on Indian Muslim...      1163   \n",
      "3325  \\t\\t\\t\\tIt is by far the best account of polya...       121   \n",
      "\n",
      "      category_id  language_id  publication_year_id  booklink_id  \n",
      "0               0            0                    0            0  \n",
      "1               0            0                    1            1  \n",
      "2               0            0                    2            2  \n",
      "3               0            0                    3            3  \n",
      "4               0            0                    3            4  \n",
      "...           ...          ...                  ...          ...  \n",
      "3321           51            0                   23         3318  \n",
      "3322           51            0                   23         3319  \n",
      "3323           51            0                   24         3320  \n",
      "3324           51            0                   24         3321  \n",
      "3325           51            0                   32         3322  \n",
      "\n",
      "[3326 rows x 11 columns]\n"
     ]
    }
   ],
   "source": [
    "# Create separate DataFrames for each entity and generate unique IDs\n",
    "category_df = pd.DataFrame({'Category': df['Category'].unique()})\n",
    "category_df['category_id'] = category_df.index\n",
    "\n",
    "language_df = pd.DataFrame({'Language': df['Language'].unique()})\n",
    "language_df['language_id'] = language_df.index\n",
    "\n",
    "publication_year_df = pd.DataFrame({'Publication Year': df['Publication Year'].unique()})\n",
    "publication_year_df['publication_year_id'] = publication_year_df.index\n",
    "\n",
    "booklink_df = pd.DataFrame({'Booklink': df['Booklink'].unique()})\n",
    "booklink_df['booklink_id'] = booklink_df.index\n",
    "\n",
    "# Create Authors DataFrame\n",
    "authors_df = df[['Author/Writer', 'About the Author']].copy()\n",
    "authors_df.drop_duplicates(subset='Author/Writer', inplace=True)\n",
    "\n",
    "authors_df.reset_index(drop=True, inplace=True)\n",
    "authors_df['AuthorID'] = authors_df.index + 1\n",
    "\n",
    "# Create a mapping dictionary for Author/Writer to AuthorID\n",
    "author_mapping = dict(zip(authors_df['Author/Writer'], authors_df['AuthorID']))\n",
    "\n",
    "# Add AuthorID to main DataFrame\n",
    "df['AuthorID'] = df['Author/Writer'].map(author_mapping)\n",
    "\n",
    "# Map the original DataFrame to the new DataFrames using IDs\n",
    "df['category_id'] = df['Category'].map(category_df.set_index('Category')['category_id'])\n",
    "df['language_id'] = df['Language'].map(language_df.set_index('Language')['language_id'])\n",
    "df['publication_year_id'] = df['Publication Year'].map(publication_year_df.set_index('Publication Year')['publication_year_id'])\n",
    "df['booklink_id'] = df['Booklink'].map(booklink_df.set_index('Booklink')['booklink_id'])\n",
    "\n",
    "# Drop redundant columns from the original DataFrame\n",
    "columns_to_drop = ['Category', 'Language', 'Publication Year', 'Booklink', 'Author/Writer', 'About the Author']\n",
    "df.drop(columns=columns_to_drop, inplace=True)\n",
    "\n",
    "# Display the modified DataFrame and the entity DataFrames\n",
    "print(\"Normalized DataFrame:\")\n",
    "print(df)"
   ],
   "metadata": {
    "collapsed": false,
    "ExecuteTime": {
     "end_time": "2024-04-11T05:03:05.078322Z",
     "start_time": "2024-04-11T05:03:05.065785Z"
    }
   },
   "id": "a78fc557d37e8b29",
   "execution_count": 4
  },
  {
   "cell_type": "code",
   "outputs": [
    {
     "name": "stdout",
     "output_type": "stream",
     "text": [
      "\n",
      "Booklink DataFrame:\n",
      "                                               Booklink  booklink_id\n",
      "0     https://www.rawatbooks.com/Ageing/elderly-care...            0\n",
      "1     https://www.rawatbooks.com/Ageing/the-sociolog...            1\n",
      "2     https://www.rawatbooks.com/Ageing/Elderly-wido...            2\n",
      "3     https://www.rawatbooks.com/Ageing/sociology-of...            3\n",
      "4     https://www.rawatbooks.com/Ageing/social-work-...            4\n",
      "...                                                 ...          ...\n",
      "3318  https://www.rawatbooks.com/Women Studies/women...         3318\n",
      "3319  https://www.rawatbooks.com/Women Studies/polyg...         3319\n",
      "3320  https://www.rawatbooks.com/Women Studies/marri...         3320\n",
      "3321  https://www.rawatbooks.com/Women Studies/marri...         3321\n",
      "3322  https://www.rawatbooks.com/Women Studies/women...         3322\n",
      "\n",
      "[3323 rows x 2 columns]\n"
     ]
    }
   ],
   "source": [
    "print(\"\\nBooklink DataFrame:\")\n",
    "print(booklink_df)"
   ],
   "metadata": {
    "collapsed": false,
    "ExecuteTime": {
     "end_time": "2024-04-11T05:03:05.082198Z",
     "start_time": "2024-04-11T05:03:05.079871Z"
    }
   },
   "id": "897737e77e2ca493",
   "execution_count": 5
  },
  {
   "cell_type": "code",
   "outputs": [
    {
     "name": "stdout",
     "output_type": "stream",
     "text": [
      "\n",
      "Publication Year DataFrame:\n",
      "    Publication Year  publication_year_id\n",
      "0               2021                    0\n",
      "1               2020                    1\n",
      "2               2018                    2\n",
      "3               2015                    3\n",
      "4               2013                    4\n",
      "5               2011                    5\n",
      "6               2010                    6\n",
      "7               2009                    7\n",
      "8               2007                    8\n",
      "9               2019                    9\n",
      "10              2017                   10\n",
      "11              2016                   11\n",
      "12              2014                   12\n",
      "13              2012                   13\n",
      "14              2006                   14\n",
      "15              2005                   15\n",
      "16              2003                   16\n",
      "17              2001                   17\n",
      "18              2000                   18\n",
      "19              1999                   19\n",
      "20              1998                   20\n",
      "21              1997                   21\n",
      "22              1996                   22\n",
      "23              1995                   23\n",
      "24              1994                   24\n",
      "25              1990                   25\n",
      "26              1989                   26\n",
      "27              2008                   27\n",
      "28              2004                   28\n",
      "29              2002                   29\n",
      "30              1986                   30\n",
      "31              1993                   31\n",
      "32              1991                   32\n",
      "33              1988                   33\n",
      "34              1992                   34\n",
      "35              1987                   35\n"
     ]
    }
   ],
   "source": [
    "print(\"\\nPublication Year DataFrame:\")\n",
    "print(publication_year_df)"
   ],
   "metadata": {
    "collapsed": false,
    "ExecuteTime": {
     "end_time": "2024-04-11T05:03:05.084859Z",
     "start_time": "2024-04-11T05:03:05.082812Z"
    }
   },
   "id": "3d8efa01f9407a90",
   "execution_count": 6
  },
  {
   "cell_type": "code",
   "outputs": [
    {
     "name": "stdout",
     "output_type": "stream",
     "text": [
      "\n",
      "Language DataFrame:\n",
      "  Language  language_id\n",
      "0  english            0\n"
     ]
    }
   ],
   "source": [
    "print(\"\\nLanguage DataFrame:\")\n",
    "print(language_df)"
   ],
   "metadata": {
    "collapsed": false,
    "ExecuteTime": {
     "end_time": "2024-04-11T05:03:05.087237Z",
     "start_time": "2024-04-11T05:03:05.085232Z"
    }
   },
   "id": "fb2e962775287208",
   "execution_count": 7
  },
  {
   "cell_type": "code",
   "outputs": [
    {
     "name": "stdout",
     "output_type": "stream",
     "text": [
      "\n",
      "Authors DataFrame:\n",
      "                                          Author/Writer  \\\n",
      "0         S. Irudaya Rajan and Gayathri Balagopal (eds)   \n",
      "1                                       Diana K. Harris   \n",
      "2                                        Sangeeta Gupta   \n",
      "3     Ajaya Kumar Sahoo, Gavin J. Andrews, S. Iruday...   \n",
      "4     Barbara Berkman, K.L. Sharma, Daniel B. Kaplan...   \n",
      "...                                                 ...   \n",
      "1172                                  Jonathan H Turner   \n",
      "1173           Helen Crowley and Susan Himmelweit (eds)   \n",
      "1174   Madhu Vij, Manjeet Bhatia, Shelly Pandey (Eds.)    \n",
      "1175                                      M. Nadarajah    \n",
      "1176                                       A. Ramegowda   \n",
      "\n",
      "                                       About the Author  AuthorID  \n",
      "0     S. Irudaya Rajan, Centre for Development Studi...         1  \n",
      "1     Diana K. Harris is Professor Emeritus of Socio...         2  \n",
      "2     Sangeeta Gupta is a Senior Project Manager of ...         3  \n",
      "3      Ajaya Kumar Sahoo is Lecturer at the Centre f...         4  \n",
      "4     Barbara Berkman is Helen Rehr/Ruth Fizdale Pro...         5  \n",
      "...                                                 ...       ...  \n",
      "1172   Jonathan H. Turner is Professor of Sociology ...      1173  \n",
      "1173  Helen Crowley is Lecturer in Sociology at The ...      1174  \n",
      "1174  Madhu Vij was Director, Women’s Studies and De...      1175  \n",
      "1175  M. Nadarajah is currently senior lecturer at S...      1176  \n",
      "1176  A. Ramegowda is presently serving as the Senio...      1177  \n",
      "\n",
      "[1177 rows x 3 columns]\n"
     ]
    }
   ],
   "source": [
    "print(\"\\nAuthors DataFrame:\")\n",
    "print(authors_df)"
   ],
   "metadata": {
    "collapsed": false,
    "ExecuteTime": {
     "end_time": "2024-04-11T05:03:05.089975Z",
     "start_time": "2024-04-11T05:03:05.087745Z"
    }
   },
   "id": "a27559930d02c8e",
   "execution_count": 8
  },
  {
   "cell_type": "code",
   "outputs": [],
   "source": [
    "booklink_df.to_csv('booklink_data.csv', index=False)\n",
    "publication_year_df.to_csv('publication_year_df.csv', index=False)\n",
    "authors_df.to_csv('authors_df.csv', index=False)\n",
    "language_df.to_csv('language_df.csv', index=False)\n",
    "df.to_csv('Book.csv', index=False)"
   ],
   "metadata": {
    "collapsed": false,
    "ExecuteTime": {
     "end_time": "2024-04-11T05:03:05.161664Z",
     "start_time": "2024-04-11T05:03:05.090531Z"
    }
   },
   "id": "b31a660228320e93",
   "execution_count": 9
  }
 ],
 "metadata": {
  "kernelspec": {
   "display_name": "Python 3",
   "language": "python",
   "name": "python3"
  },
  "language_info": {
   "codemirror_mode": {
    "name": "ipython",
    "version": 2
   },
   "file_extension": ".py",
   "mimetype": "text/x-python",
   "name": "python",
   "nbconvert_exporter": "python",
   "pygments_lexer": "ipython2",
   "version": "2.7.6"
  }
 },
 "nbformat": 4,
 "nbformat_minor": 5
}
